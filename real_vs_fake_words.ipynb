{
  "nbformat": 4,
  "nbformat_minor": 0,
  "metadata": {
    "colab": {
      "provenance": [],
      "include_colab_link": true
    },
    "kernelspec": {
      "name": "python3",
      "display_name": "Python 3"
    },
    "language_info": {
      "name": "python"
    }
  },
  "cells": [
    {
      "cell_type": "markdown",
      "metadata": {
        "id": "view-in-github",
        "colab_type": "text"
      },
      "source": [
        "<a href=\"https://colab.research.google.com/github/Vince7778/real-vs-fake-words/blob/main/real_vs_fake_words.ipynb\" target=\"_parent\"><img src=\"https://colab.research.google.com/assets/colab-badge.svg\" alt=\"Open In Colab\"/></a>"
      ]
    },
    {
      "cell_type": "code",
      "execution_count": 120,
      "metadata": {
        "id": "G1PN3XGK-3FP",
        "colab": {
          "base_uri": "https://localhost:8080/"
        },
        "outputId": "0c12ca02-4c7b-4b57-efc4-01d020bb7309"
      },
      "outputs": [
        {
          "output_type": "stream",
          "name": "stdout",
          "text": [
            "Drive already mounted at /content/drive/; to attempt to forcibly remount, call drive.mount(\"/content/drive/\", force_remount=True).\n"
          ]
        }
      ],
      "source": [
        "import re\n",
        "import os\n",
        "import random\n",
        "import numpy as np\n",
        "import json\n",
        "import csv\n",
        "import time\n",
        "\n",
        "from google.colab import drive\n",
        "drive.mount('/content/drive/')"
      ]
    },
    {
      "cell_type": "code",
      "source": [
        "# options\n",
        "\n",
        "dict_path = '/content/drive/MyDrive/CS 229 Project/data/cmudict-0.7b'\n",
        "popular_path = '/content/drive/MyDrive/CS 229 Project/data/words_by_popularity.txt'\n",
        "symbols_path = '/content/drive/MyDrive/CS 229 Project/data/cmudict-0.7b.symbols'\n",
        "model_save_path = '/content/drive/MyDrive/CS 229 Project/model-save-50000-noemph-pop-new-adam/'\n",
        "pseudoword_path = '/content/drive/MyDrive/CS 229 Project/data/pseudowords.csv'\n",
        "pseudoword_output = '/content/drive/MyDrive/CS 229 Project/pseudoword-output-new.json'\n",
        "dict_output = '/content/drive/MyDrive/CS 229 Project/clean-dict-output-new.json'\n",
        "popular_words_output = '/content/drive/MyDrive/CS 229 Project/popular-word-output-new.json'\n",
        "\n",
        "N = 50000 # training sample count\n",
        "n_epochs = 40\n",
        "train_test_split = [0.8, 0.1, 0.1]\n",
        "\n",
        "# whether saved model should be used\n",
        "load_model_from_file = True\n",
        "\n",
        "# whether emphasis should be ignored\n",
        "ignore_emphasis = True\n",
        "\n",
        "# use top n most common english words as training data\n",
        "use_popularity = True\n",
        "\n",
        "# which dictionaries to predict on (pseudoword, real, popular)\n",
        "prediction_todos = []\n",
        "\n",
        "do_evaluation = False\n",
        "\n",
        "# made some changes (non backwards compatible)\n",
        "fixed_algo = True"
      ],
      "metadata": {
        "id": "ETbRapcPDWK_"
      },
      "execution_count": 121,
      "outputs": []
    },
    {
      "cell_type": "code",
      "source": [
        "max_length = 15\n",
        "min_length = 3\n",
        "\n",
        "bad_chars = \"[^A-Z]\"\n",
        "start_seq = \"START\"\n",
        "end_seq = \"END\"\n",
        "\n",
        "random.seed(42)"
      ],
      "metadata": {
        "id": "mNX-AhKVCewV"
      },
      "execution_count": 122,
      "outputs": []
    },
    {
      "cell_type": "code",
      "source": [
        "def clean_dictionary():\n",
        "\n",
        "    def alternate_spelling(word):\n",
        "        return word[-1] == ')' and word[-3] == '(' and word[-2].isdigit()\n",
        "\n",
        "    def skip(word):\n",
        "        if not word[0].isalpha() or word[-1] == '.' or re.search(bad_chars, word) or len(word) > max_length or len(word) < min_length:\n",
        "            return True\n",
        "        else:\n",
        "          return False\n",
        "\n",
        "    clean_dict = {}\n",
        "\n",
        "    with open(dict_path, encoding=\"ISO-8859-1\") as raw_dict:\n",
        "        for line in raw_dict:\n",
        "\n",
        "            # Skip commented lines\n",
        "            if line[0:3] == ';;;':\n",
        "                continue\n",
        "\n",
        "            word, phonetic = line.strip().split('  ')\n",
        "\n",
        "            if alternate_spelling(word):\n",
        "                continue\n",
        "\n",
        "            if skip(word):\n",
        "                continue\n",
        "\n",
        "            phonetic = start_seq + \" \" + phonetic + \" \" + end_seq\n",
        "            if word not in clean_dict:\n",
        "              phonemes = phonetic.split(' ')\n",
        "              if ignore_emphasis:\n",
        "                for i in range(len(phonemes)):\n",
        "                  if phonemes[i][-1].isnumeric():\n",
        "                    phonemes[i] = phonemes[i][:-1]\n",
        "              clean_dict[word] = phonemes\n",
        "\n",
        "    return clean_dict"
      ],
      "metadata": {
        "id": "xa54HPzCE6ZD"
      },
      "execution_count": 123,
      "outputs": []
    },
    {
      "cell_type": "markdown",
      "source": [
        "# Words to Phonemes Model"
      ],
      "metadata": {
        "id": "-nSPhqyqm-6Y"
      }
    },
    {
      "cell_type": "code",
      "source": [
        "clean_dict = clean_dictionary()\n",
        "print(len(clean_dict))\n",
        "\n",
        "# take n training samples\n",
        "def get_training_data(N):\n",
        "  sample_dict = dict()\n",
        "  if use_popularity:\n",
        "    with open(popular_path) as popular_file:\n",
        "      for line in popular_file:\n",
        "        word = line.split(\"\\t\")[0].upper()\n",
        "        if word in clean_dict:\n",
        "          sample_dict[word] = clean_dict[word]\n",
        "          if len(sample_dict) >= N:\n",
        "            break\n",
        "    if len(sample_dict) < N:\n",
        "      print(\"Only found \" + str(len(sample_dict)) + \" words\")\n",
        "  else:\n",
        "    sample_dict = dict(random.sample(list(clean_dict.items()), N))\n",
        "  return sample_dict\n",
        "\n",
        "def split_data(words):\n",
        "  words = list(words.items())\n",
        "  random.shuffle(words)\n",
        "  n = len(words)\n",
        "  inds = [0] + [int(n * sum(train_test_split[:i+1])) for i in range(len(train_test_split))]\n",
        "  x_out, y_out = [], []\n",
        "  for i in range(len(train_test_split)):\n",
        "    words_split = words[inds[i] : inds[i+1]]\n",
        "    x_data = [v[0] for v in words_split]\n",
        "    y_data = [v[1] for v in words_split]\n",
        "    x_out.append(x_data)\n",
        "    y_out.append(y_data)\n",
        "  return x_out, y_out\n",
        "\n",
        "all_data = get_training_data(N)\n",
        "[input_words, valid_words, test_words], [input_phonetics, valid_phonetics, test_phonetics] = split_data(all_data)\n",
        "\n",
        "# returns a list of the alphabet characters\n",
        "def get_alphabet(input_list):\n",
        "  alphabet = set()\n",
        "  for v in input_list:\n",
        "    for c in v:\n",
        "      alphabet.add(c)\n",
        "  return sorted(list(alphabet))\n",
        "\n",
        "characters_alphabet = get_alphabet(input_words)\n",
        "phonetics_alphabet = get_alphabet(input_phonetics)\n",
        "\n",
        "num_characters = len(characters_alphabet)\n",
        "num_phonetics = len(phonetics_alphabet)\n",
        "\n",
        "word_max_len = max([len(word) for word in input_words])\n",
        "phonetics_max_len = max([len(phon) for phon in input_phonetics])\n",
        "if not fixed_algo:\n",
        "  phonetics_max_len -= 1\n",
        "\n",
        "characters_index = dict([(char, i) for i, char in enumerate(characters_alphabet)])\n",
        "phonetics_index = dict([(phon, i) for i, phon in enumerate(phonetics_alphabet)])"
      ],
      "metadata": {
        "id": "-t45fT-aHktB",
        "colab": {
          "base_uri": "https://localhost:8080/"
        },
        "outputId": "79b143d2-2a4a-4b45-8a9d-d6bfccc51fcc"
      },
      "execution_count": 124,
      "outputs": [
        {
          "output_type": "stream",
          "name": "stdout",
          "text": [
            "116047\n"
          ]
        }
      ]
    },
    {
      "cell_type": "code",
      "source": [
        "def char_to_1_hot(ch):\n",
        "  vec = np.zeros((num_characters))\n",
        "  vec[characters_index[ch]] = 1.\n",
        "  return vec\n",
        "\n",
        "def phone_to_1_hot(ph):\n",
        "  vec = np.zeros((num_phonetics))\n",
        "  vec[phonetics_index[ph]] = 1.\n",
        "  return vec\n",
        "\n",
        "encoder_input_tensor = np.zeros((len(input_words), word_max_len, num_characters), dtype='float32')\n",
        "decoder_input_tensor = np.zeros((len(input_words), phonetics_max_len, num_phonetics), dtype='float32')\n",
        "decoder_target_tensor = np.zeros((len(input_words), phonetics_max_len, num_phonetics), dtype='float32')\n",
        "\n",
        "for i, (input_word, input_phonetic) in enumerate(zip(input_words, input_phonetics)):\n",
        "  for t, char in enumerate(input_word):\n",
        "    encoder_input_tensor[i, t, :] = char_to_1_hot(char)\n",
        "  for t, phon in enumerate(input_phonetic):\n",
        "    if fixed_algo:\n",
        "      decoder_input_tensor[i, t, :] = phone_to_1_hot(phon)\n",
        "    else:\n",
        "      if t < len(input_phonetic) - 1:\n",
        "        decoder_input_tensor[i, t, phonetics_index[phon]] = 1.\n",
        "      if t > 0:\n",
        "        decoder_target_tensor[i, t-1, phonetics_index[phon]] = 1.\n",
        "\n",
        "if fixed_algo:\n",
        "  decoder_target_tensor = np.pad(decoder_input_tensor, ((0, 0), (0, 1), (0, 0)), mode=\"constant\")[:, 1:, :]"
      ],
      "metadata": {
        "id": "6CBnEzscKPlB"
      },
      "execution_count": 125,
      "outputs": []
    },
    {
      "cell_type": "code",
      "source": [
        "import tensorflow as tf\n",
        "from tensorflow.keras.models import Model\n",
        "from tensorflow.keras.layers import Input, LSTM, Dense\n",
        "from tensorflow.keras.callbacks import EarlyStopping\n",
        "\n",
        "latent_dim = 256\n",
        "\n",
        "encoder_inputs =Input(shape=(None, num_characters))\n",
        "encoder = LSTM(latent_dim, return_state=True)\n",
        "_, state_h, state_c = encoder(encoder_inputs)\n",
        "encoder_states = [state_h, state_c]\n",
        "\n",
        "decoder_inputs = Input(shape=(None, num_phonetics))\n",
        "decoder_lstm = LSTM(latent_dim, return_sequences=True, return_state=True)\n",
        "decoder_outputs = decoder_lstm(decoder_inputs, initial_state=encoder_states)[0]\n",
        "decoder_dense = Dense(num_phonetics, activation='softmax')\n",
        "decoder_outputs = decoder_dense(decoder_outputs)\n",
        "\n",
        "seq2seq = Model([encoder_inputs, decoder_inputs], decoder_outputs)"
      ],
      "metadata": {
        "id": "FAsM58VgMs7q"
      },
      "execution_count": 126,
      "outputs": []
    },
    {
      "cell_type": "code",
      "source": [
        "def save_model(models):\n",
        "  if not os.path.exists(model_save_path):\n",
        "    os.makedirs(model_save_path)\n",
        "  for (i, model) in enumerate(models):\n",
        "    save_path = model_save_path + \"weights-\" + str(i)\n",
        "    model.save_weights(save_path)\n",
        "\n",
        "def save_history(history):\n",
        "  if not os.path.exists(model_save_path):\n",
        "    os.makedirs(model_save_path)\n",
        "  import json\n",
        "  data = history.history\n",
        "  json.dump(data, open(model_save_path + \"history.json\", \"w\"))\n",
        "\n",
        "def load_model(models):\n",
        "  for (i, model) in enumerate(models):\n",
        "    save_path = model_save_path + \"weights-\" + str(i)\n",
        "    model.load_weights(save_path)"
      ],
      "metadata": {
        "id": "X5iJJaepZs7U"
      },
      "execution_count": 127,
      "outputs": []
    },
    {
      "cell_type": "code",
      "source": [
        "seq_optimizer = 'adam' if fixed_algo else 'rmsprop'\n",
        "seq2seq.compile(optimizer=seq_optimizer, loss='categorical_crossentropy')\n",
        "\n",
        "encoder_model = Model(encoder_inputs, encoder_states)\n",
        "\n",
        "decoder_state_input_h = Input(shape=(latent_dim,))\n",
        "decoder_state_input_c = Input(shape=(latent_dim,))\n",
        "decoder_states_inputs = [decoder_state_input_h, decoder_state_input_c]\n",
        "decoder_outputs, state_h, state_c = decoder_lstm(\n",
        "    decoder_inputs, initial_state=decoder_states_inputs)\n",
        "decoder_states = [state_h, state_c]\n",
        "decoder_outputs = decoder_dense(decoder_outputs)\n",
        "decoder_model = Model(\n",
        "    [decoder_inputs] + decoder_states_inputs,\n",
        "    [decoder_outputs] + decoder_states)\n",
        "\n",
        "stopper = None\n",
        "if fixed_algo:\n",
        "  stopper = EarlyStopping(monitor=\"val_loss\", patience=3)\n",
        "\n",
        "if not load_model_from_file:\n",
        "  history = seq2seq.fit([encoder_input_tensor, decoder_input_tensor],\n",
        "                        decoder_target_tensor,\n",
        "                        batch_size=64,\n",
        "                        epochs=n_epochs,\n",
        "                        validation_split=0.2,\n",
        "                        callbacks=[stopper] if fixed_algo else None)\n",
        "  save_model([seq2seq, encoder_model, decoder_model])\n",
        "  save_history(history)\n",
        "else:\n",
        "  load_model([seq2seq, encoder_model, decoder_model])"
      ],
      "metadata": {
        "colab": {
          "base_uri": "https://localhost:8080/"
        },
        "id": "PoLpw5UNNzhX",
        "outputId": "e4a0132c-a19e-482f-e8f7-ac8ea5438375"
      },
      "execution_count": 128,
      "outputs": [
        {
          "output_type": "stream",
          "name": "stderr",
          "text": [
            "WARNING:tensorflow:Detecting that an object or model or tf.train.Checkpoint is being deleted with unrestored values. See the following logs for the specific values in question. To silence these warnings, use `status.expect_partial()`. See https://www.tensorflow.org/api_docs/python/tf/train/Checkpoint#restorefor details about the status object returned by the restore function.\n",
            "WARNING:tensorflow:Value in checkpoint could not be found in the restored object: (root).optimizer._variables.1\n",
            "WARNING:tensorflow:Value in checkpoint could not be found in the restored object: (root).optimizer._variables.2\n",
            "WARNING:tensorflow:Value in checkpoint could not be found in the restored object: (root).optimizer._variables.3\n",
            "WARNING:tensorflow:Value in checkpoint could not be found in the restored object: (root).optimizer._variables.4\n",
            "WARNING:tensorflow:Value in checkpoint could not be found in the restored object: (root).optimizer._variables.5\n",
            "WARNING:tensorflow:Value in checkpoint could not be found in the restored object: (root).optimizer._variables.6\n",
            "WARNING:tensorflow:Value in checkpoint could not be found in the restored object: (root).optimizer._variables.7\n",
            "WARNING:tensorflow:Value in checkpoint could not be found in the restored object: (root).optimizer._variables.8\n",
            "WARNING:tensorflow:Value in checkpoint could not be found in the restored object: (root).optimizer._variables.9\n",
            "WARNING:tensorflow:Value in checkpoint could not be found in the restored object: (root).optimizer._variables.10\n",
            "WARNING:tensorflow:Value in checkpoint could not be found in the restored object: (root).optimizer._variables.11\n",
            "WARNING:tensorflow:Value in checkpoint could not be found in the restored object: (root).optimizer._variables.12\n",
            "WARNING:tensorflow:Value in checkpoint could not be found in the restored object: (root).optimizer._variables.13\n",
            "WARNING:tensorflow:Value in checkpoint could not be found in the restored object: (root).optimizer._variables.14\n",
            "WARNING:tensorflow:Value in checkpoint could not be found in the restored object: (root).optimizer._variables.15\n",
            "WARNING:tensorflow:Value in checkpoint could not be found in the restored object: (root).optimizer._variables.16\n"
          ]
        }
      ]
    },
    {
      "cell_type": "markdown",
      "source": [
        "# Words to Phonemes Prediction"
      ],
      "metadata": {
        "id": "kt27ATUJnFB0"
      }
    },
    {
      "cell_type": "code",
      "source": [
        "def decode_sequence(input_word):\n",
        "    input_word = input_word.upper()\n",
        "    input_seq = np.zeros((1, word_max_len, num_characters))\n",
        "    for t, char in enumerate(input_word):\n",
        "      input_seq[0, t, characters_index[char]] = 1.\n",
        "\n",
        "    states_value = encoder_model(input_seq)\n",
        "\n",
        "    target_seq = np.zeros((1, 1, num_phonetics))\n",
        "    target_seq[0, 0, phonetics_index[start_seq]] = 1.\n",
        "\n",
        "    stop_condition = False\n",
        "    decoded_sentence = ''\n",
        "    while not stop_condition:\n",
        "        output_tokens, h, c = decoder_model([target_seq] + states_value)\n",
        "\n",
        "        # Sample a token\n",
        "        sampled_token_index = np.argmax(output_tokens[0, -1, :])\n",
        "        sampled_char = phonetics_alphabet[sampled_token_index]\n",
        "\n",
        "        if sampled_char != end_seq:\n",
        "          decoded_sentence += sampled_char + \" \"\n",
        "\n",
        "        # Exit condition: either hit max length\n",
        "        # or find stop character.\n",
        "        if (sampled_char == end_seq or\n",
        "           len(decoded_sentence) > phonetics_max_len):\n",
        "            stop_condition = True\n",
        "\n",
        "        # Update the target sequence (of length 1).\n",
        "        target_seq = np.zeros((1, 1, num_phonetics))\n",
        "        target_seq[0, 0, sampled_token_index] = 1.\n",
        "\n",
        "        # Update states\n",
        "        states_value = [h, c]\n",
        "\n",
        "    return decoded_sentence.strip()\n"
      ],
      "metadata": {
        "id": "6RvpaU8AQnbi"
      },
      "execution_count": 129,
      "outputs": []
    },
    {
      "cell_type": "code",
      "source": [
        "# Accuracy evaluation\n",
        "\n",
        "# Using BLEU score\n",
        "from nltk.translate.bleu_score import sentence_bleu, SmoothingFunction\n",
        "\n",
        "# guessed should be a string of the phonemes\n",
        "def get_bleu_score(y, guessed):\n",
        "  smoothing = SmoothingFunction().method1\n",
        "  res = sentence_bleu([y], guessed.split(), smoothing_function=smoothing)\n",
        "  #print(y, guessed.split(), res)\n",
        "  return res\n",
        "\n",
        "def evaluate(x_test, y_test, decoder):\n",
        "  bleu_scores = []\n",
        "  print(f\"Evaluating on {len(x_test)} examples\")\n",
        "  for i in range(len(x_test)):\n",
        "    decoded = start_seq + \" \" + decode_sequence(x_test[i]) + \" \" + end_seq\n",
        "    score = get_bleu_score(y_test[i], decoded)\n",
        "    bleu_scores.append(score)\n",
        "    if i % 500 == 499:\n",
        "      print(f\"Finished {i+1} evaluations\")\n",
        "  return np.mean(bleu_scores)"
      ],
      "metadata": {
        "id": "qgvgm8sChObE"
      },
      "execution_count": 130,
      "outputs": []
    },
    {
      "cell_type": "code",
      "source": [
        "# evaluate model\n",
        "if do_evaluation:\n",
        "  score = evaluate(test_words, test_phonetics, decode_sequence)\n",
        "  print(f\"Average BLEU score: {score}\")"
      ],
      "metadata": {
        "id": "4EUgZ4tsSZo3"
      },
      "execution_count": 131,
      "outputs": []
    },
    {
      "cell_type": "code",
      "source": [
        "import csv\n",
        "import json\n",
        "import time\n",
        "\n",
        "def save_to_file(path, output_dict):\n",
        "  json_output = json.dumps(output_dict)\n",
        "\n",
        "  with open(path, \"w\") as output_file:\n",
        "    output_file.write(json_output)\n",
        "\n",
        "def load_pseudowords():\n",
        "  output = []\n",
        "  with open(pseudoword_path) as pseudoword_file:\n",
        "    reader = csv.reader(pseudoword_file)\n",
        "    output = [row[0].upper() for row in reader]\n",
        "  return output\n",
        "\n",
        "def load_popular_words():\n",
        "  output = []\n",
        "  with open(popular_path) as popular_file:\n",
        "    for line in popular_file:\n",
        "      word = line.split(\"\\t\")[0].upper()\n",
        "      output.append(word.upper())\n",
        "  return output[:30000]\n",
        "\n",
        "def run_predictions(output_path, words, limit=None):\n",
        "  random.shuffle(words)\n",
        "  start_time = time.time()\n",
        "  output_dict = {}\n",
        "  word_count = 0\n",
        "  for word in words:\n",
        "    if len(word) > max_length or len(word) < min_length:\n",
        "      continue\n",
        "    if re.search(bad_chars, word):\n",
        "      continue\n",
        "    res = decode_sequence(word).split(' ')\n",
        "    output_dict[word] = res\n",
        "    word_count += 1\n",
        "    if word_count % 500 == 0:\n",
        "      elapsed_time = time.time() - start_time\n",
        "      print(f\"Done {word_count} in {elapsed_time} seconds\")\n",
        "      save_to_file(output_path, output_dict)\n",
        "    if limit is not None and word_count >= limit:\n",
        "      break\n",
        "\n",
        "if \"pseudoword\" in prediction_todos:\n",
        "  pseudowords = load_pseudowords()\n",
        "  run_predictions(pseudoword_output, pseudowords)\n",
        "\n",
        "if \"real\" in prediction_todos:\n",
        "  words = list(clean_dict.keys())\n",
        "  run_predictions(dict_output, words, 13000)\n",
        "\n",
        "if \"popular\" in prediction_todos:\n",
        "  popular_words = load_popular_words()\n",
        "  run_predictions(popular_words_output, popular_words, 13000)\n"
      ],
      "metadata": {
        "id": "UF7fcIejR6uz"
      },
      "execution_count": 132,
      "outputs": []
    },
    {
      "cell_type": "markdown",
      "source": [
        "# Phonemes to Real/Fake Model"
      ],
      "metadata": {
        "id": "Xq7uHIIanJMK"
      }
    },
    {
      "cell_type": "code",
      "source": [
        "# options\n",
        "\n",
        "pseudoword_input = '/content/drive/MyDrive/CS 229 Project/pseudoword-output-new.json'\n",
        "dict_input = '/content/drive/MyDrive/CS 229 Project/clean-dict-output-new.json'\n",
        "model_save_path = '/content/drive/MyDrive/CS 229 Project/models-rnn/model-save-2023-12-07-full/'\n",
        "\n",
        "padding_amount = 17\n",
        "pad_str = \"PAD\"\n",
        "train_test_split = [0.8, 0.1, 0.1]\n",
        "\n",
        "embedding_dim = 32\n",
        "num_epochs = 10\n",
        "\n",
        "load_model_from_file = False"
      ],
      "metadata": {
        "id": "csYW3qzrnLGm"
      },
      "execution_count": 133,
      "outputs": []
    },
    {
      "cell_type": "code",
      "source": [
        "def load_json(file):\n",
        "  with open(file) as json_file:\n",
        "    return json.load(json_file)\n",
        "\n",
        "clean_dict = load_json(dict_input)\n",
        "pseudoword_dict = load_json(pseudoword_input)\n",
        "\n",
        "print(len(clean_dict.items()))\n",
        "\n",
        "def pad_phonemes(p):\n",
        "  while len(p) < padding_amount:\n",
        "    p.append(pad_str)\n",
        "\n",
        "def pad_dict(d):\n",
        "  for (k, v) in d.items():\n",
        "    pad_phonemes(v)\n",
        "\n",
        "pad_dict(clean_dict)\n",
        "pad_dict(pseudoword_dict)"
      ],
      "metadata": {
        "colab": {
          "base_uri": "https://localhost:8080/"
        },
        "id": "zgI9lzv0nWln",
        "outputId": "19111956-e984-4b3d-b06e-a05a42a3ad66"
      },
      "execution_count": 134,
      "outputs": [
        {
          "output_type": "stream",
          "name": "stdout",
          "text": [
            "13000\n"
          ]
        }
      ]
    },
    {
      "cell_type": "code",
      "source": [
        "phoneme_alphabet = get_alphabet(list(clean_dict.values()) + list(pseudoword_dict.values()))\n",
        "print(phoneme_alphabet)\n",
        "phoneme_indices = dict([(p, i) for (i, p) in enumerate(phoneme_alphabet)])"
      ],
      "metadata": {
        "colab": {
          "base_uri": "https://localhost:8080/"
        },
        "id": "5e9BI0r1ncr1",
        "outputId": "23d005e4-952c-4218-ee96-1f28eaa940a6"
      },
      "execution_count": 135,
      "outputs": [
        {
          "output_type": "stream",
          "name": "stdout",
          "text": [
            "['AA', 'AE', 'AH', 'AO', 'AW', 'AY', 'B', 'CH', 'D', 'EH', 'ER', 'EY', 'F', 'G', 'HH', 'IH', 'IY', 'JH', 'K', 'L', 'M', 'N', 'NG', 'OW', 'OY', 'P', 'PAD', 'R', 'S', 'SH', 'T', 'TH', 'UH', 'UW', 'V', 'W', 'Y', 'Z', 'ZH']\n"
          ]
        }
      ]
    },
    {
      "cell_type": "code",
      "source": [
        "# create input data\n",
        "\n",
        "# shuffle order of words\n",
        "def get_combined_words():\n",
        "  # appends a 0 to pseudowords and a 1 to real words\n",
        "  app_pseudo = [x + \"0\" for x in pseudoword_dict.keys()]\n",
        "  app_real = [x + \"1\" for x in clean_dict.keys()]\n",
        "  random.shuffle(app_pseudo)\n",
        "  random.shuffle(app_real)\n",
        "\n",
        "  min_len = min([len(app_pseudo), len(app_real)])\n",
        "  app_pseudo = app_pseudo[:min_len]\n",
        "  app_real = app_real[:min_len]\n",
        "\n",
        "  combined = app_pseudo + app_real\n",
        "  random.shuffle(combined)\n",
        "  return combined\n",
        "\n",
        "combined_words = get_combined_words()\n",
        "print(combined_words[:30])\n",
        "print(len(combined_words))\n",
        "\n",
        "def phonemes_to_indices(phonemes):\n",
        "  return np.asarray([phoneme_indices[p] for p in phonemes])\n",
        "\n",
        "def create_training_data(words):\n",
        "  n = len(words)\n",
        "  x = np.zeros((n, padding_amount))\n",
        "  y = np.zeros((n, ))\n",
        "  for (i, w) in enumerate(words):\n",
        "    phonemes = clean_dict[w[:-1]] if w[-1] == \"1\" else pseudoword_dict[w[:-1]]\n",
        "    x[i, :] = phonemes_to_indices(phonemes)\n",
        "    y[i] = int(w[-1])\n",
        "  return x, y\n",
        "\n",
        "def split_data(words):\n",
        "  n = len(words)\n",
        "  inds = [0] + [int(n * sum(train_test_split[:i+1])) for i in range(len(train_test_split))]\n",
        "  x_out, y_out = [], []\n",
        "  for i in range(len(train_test_split)):\n",
        "    words_split = words[inds[i] : inds[i+1]]\n",
        "    x_data, y_data = create_training_data(words_split)\n",
        "    x_out.append(x_data)\n",
        "    y_out.append(y_data)\n",
        "  return x_out, y_out\n",
        "\n",
        "[x_train, x_valid, x_test], [y_train, y_valid, y_test] = split_data(combined_words)"
      ],
      "metadata": {
        "colab": {
          "base_uri": "https://localhost:8080/"
        },
        "id": "fm5SAz3XnnUr",
        "outputId": "2b7775b6-cc40-41c9-f72d-d2059ea39cb2"
      },
      "execution_count": 136,
      "outputs": [
        {
          "output_type": "stream",
          "name": "stdout",
          "text": [
            "['FLESENSITERVE0', 'KNIZE0', 'ADVEMONY0', 'DETAY0', 'TOWEAK0', 'DIVED0', 'SHOCIPE0', 'ACCUPPORY0', 'PINNOW1', 'BURNHAM1', 'GROWDER0', 'PINCERS1', 'DEGAETANO1', 'BUICLAMERSION0', 'CAMOVESS0', 'JOUCAN0', 'USEBT0', 'SOCOVERT0', 'COMBES1', 'ARGERSULD0', 'INTRO1', 'CITIZEN1', 'LAWSUE0', 'FEAPT0', 'EFFERITH0', 'RAPTUE0', 'FAMAN0', 'HOAGIE1', 'VIRUCT0', 'WEILE0']\n",
            "26000\n"
          ]
        }
      ]
    },
    {
      "cell_type": "code",
      "source": [
        "import tensorflow as tf\n",
        "from tensorflow.keras.models import Sequential\n",
        "from tensorflow.keras.layers import Embedding, LSTM, Dense\n",
        "\n",
        "model = Sequential()\n",
        "\n",
        "model.add(Embedding(input_dim=len(phoneme_alphabet), output_dim=embedding_dim, input_length=padding_amount))\n",
        "model.add(LSTM(64, return_sequences=True))\n",
        "model.add(LSTM(64, return_sequences=False))\n",
        "model.add(Dense(1, activation='sigmoid'))\n",
        "\n",
        "model.compile(optimizer='adam', loss='binary_crossentropy', metrics=['accuracy'])\n",
        "\n",
        "model.summary()"
      ],
      "metadata": {
        "colab": {
          "base_uri": "https://localhost:8080/"
        },
        "id": "1_7AZ4o-nqBQ",
        "outputId": "a1166636-9e0c-44b5-d125-86f7d62ce528"
      },
      "execution_count": 137,
      "outputs": [
        {
          "output_type": "stream",
          "name": "stdout",
          "text": [
            "Model: \"sequential_1\"\n",
            "_________________________________________________________________\n",
            " Layer (type)                Output Shape              Param #   \n",
            "=================================================================\n",
            " embedding_1 (Embedding)     (None, 17, 32)            1248      \n",
            "                                                                 \n",
            " lstm_18 (LSTM)              (None, 17, 64)            24832     \n",
            "                                                                 \n",
            " lstm_19 (LSTM)              (None, 64)                33024     \n",
            "                                                                 \n",
            " dense_9 (Dense)             (None, 1)                 65        \n",
            "                                                                 \n",
            "=================================================================\n",
            "Total params: 59169 (231.13 KB)\n",
            "Trainable params: 59169 (231.13 KB)\n",
            "Non-trainable params: 0 (0.00 Byte)\n",
            "_________________________________________________________________\n"
          ]
        }
      ]
    },
    {
      "cell_type": "code",
      "source": [
        "if not load_model_from_file:\n",
        "  history = model.fit(x_train, y_train, epochs=num_epochs, validation_data=(x_valid, y_valid))\n",
        "  save_history(history)\n",
        "  save_model([model])\n",
        "else:\n",
        "  load_model([model])"
      ],
      "metadata": {
        "colab": {
          "base_uri": "https://localhost:8080/"
        },
        "id": "buErgZYenzmm",
        "outputId": "bd600642-afd8-49ba-9fc5-308be5f41270"
      },
      "execution_count": 138,
      "outputs": [
        {
          "output_type": "stream",
          "name": "stdout",
          "text": [
            "Epoch 1/10\n",
            "650/650 [==============================] - 19s 23ms/step - loss: 0.6595 - accuracy: 0.6087 - val_loss: 0.6633 - val_accuracy: 0.6135\n",
            "Epoch 2/10\n",
            "650/650 [==============================] - 15s 23ms/step - loss: 0.6520 - accuracy: 0.6227 - val_loss: 0.6595 - val_accuracy: 0.6154\n",
            "Epoch 3/10\n",
            "650/650 [==============================] - 15s 22ms/step - loss: 0.6461 - accuracy: 0.6302 - val_loss: 0.6625 - val_accuracy: 0.6081\n",
            "Epoch 4/10\n",
            "650/650 [==============================] - 14s 22ms/step - loss: 0.6427 - accuracy: 0.6358 - val_loss: 0.6511 - val_accuracy: 0.6312\n",
            "Epoch 5/10\n",
            "650/650 [==============================] - 13s 20ms/step - loss: 0.6406 - accuracy: 0.6381 - val_loss: 0.6512 - val_accuracy: 0.6285\n",
            "Epoch 6/10\n",
            "650/650 [==============================] - 13s 21ms/step - loss: 0.6376 - accuracy: 0.6386 - val_loss: 0.6611 - val_accuracy: 0.6185\n",
            "Epoch 7/10\n",
            "650/650 [==============================] - 15s 23ms/step - loss: 0.6366 - accuracy: 0.6386 - val_loss: 0.6485 - val_accuracy: 0.6373\n",
            "Epoch 8/10\n",
            "650/650 [==============================] - 15s 23ms/step - loss: 0.6335 - accuracy: 0.6435 - val_loss: 0.6472 - val_accuracy: 0.6315\n",
            "Epoch 9/10\n",
            "650/650 [==============================] - 15s 22ms/step - loss: 0.6304 - accuracy: 0.6485 - val_loss: 0.6474 - val_accuracy: 0.6346\n",
            "Epoch 10/10\n",
            "650/650 [==============================] - 15s 23ms/step - loss: 0.6262 - accuracy: 0.6523 - val_loss: 0.6444 - val_accuracy: 0.6273\n"
          ]
        }
      ]
    },
    {
      "cell_type": "code",
      "source": [
        "test_loss, test_acc = model.evaluate(x_test, y_test)\n",
        "print(f\"Test Accuracy: {test_acc}\")"
      ],
      "metadata": {
        "colab": {
          "base_uri": "https://localhost:8080/"
        },
        "id": "j3GSu3r7oGIf",
        "outputId": "81c7e5e9-c711-48d2-fab1-262f2144e747"
      },
      "execution_count": 139,
      "outputs": [
        {
          "output_type": "stream",
          "name": "stdout",
          "text": [
            "82/82 [==============================] - 1s 8ms/step - loss: 0.6458 - accuracy: 0.6292\n",
            "Test Accuracy: 0.629230797290802\n"
          ]
        }
      ]
    },
    {
      "cell_type": "markdown",
      "source": [
        "# Combine models"
      ],
      "metadata": {
        "id": "EiuoVsjRo16h"
      }
    },
    {
      "cell_type": "code",
      "source": [
        "# convert to phoneme then to real/fake prediction\n",
        "def run_whole_pipeline(word):\n",
        "  phonemes = decode_sequence(word).split(\" \")\n",
        "  pad_phonemes(phonemes)\n",
        "  indices = np.zeros((1, padding_amount))\n",
        "  indices[0, :] = np.asarray(phonemes_to_indices(phonemes))\n",
        "  output = model(indices)\n",
        "  return float(output[0])"
      ],
      "metadata": {
        "id": "iPf3C9dPoXUk"
      },
      "execution_count": null,
      "outputs": []
    },
    {
      "cell_type": "code",
      "source": [
        "run_whole_pipeline(\"fjkhdkfjhsdf\")"
      ],
      "metadata": {
        "colab": {
          "base_uri": "https://localhost:8080/"
        },
        "id": "AWojHkC4o3tW",
        "outputId": "c8dc39a5-4d9e-4a36-dc59-9c741347ade0"
      },
      "execution_count": null,
      "outputs": [
        {
          "output_type": "execute_result",
          "data": {
            "text/plain": [
              "0.35639292001724243"
            ]
          },
          "metadata": {},
          "execution_count": 81
        }
      ]
    },
    {
      "cell_type": "markdown",
      "source": [
        "# Feeding text directly in\n",
        "(instead of phonemes)"
      ],
      "metadata": {
        "id": "-C2aQc64t6cz"
      }
    },
    {
      "cell_type": "code",
      "source": [
        "pad_char = \"[\" # Z + 1\n",
        "\n",
        "def get_combined_words():\n",
        "  # appends a 0 to pseudowords and a 1 to real words\n",
        "  app_pseudo = [x.upper() + \"0\" for x in pseudoword_dict.keys() if len(x) >= min_length and len(x) <= max_length]\n",
        "  app_real = [x.upper() + \"1\" for x in clean_dict.keys() if len(x) >= min_length and len(x) <= max_length]\n",
        "  random.shuffle(app_pseudo)\n",
        "  random.shuffle(app_real)\n",
        "\n",
        "  min_len = min([len(app_pseudo), len(app_real)])\n",
        "  app_pseudo = app_pseudo[:min_len]\n",
        "  app_real = app_real[:min_len]\n",
        "\n",
        "  combined = app_pseudo + app_real\n",
        "  random.shuffle(combined)\n",
        "  return combined\n",
        "\n",
        "combined_words = get_combined_words()\n",
        "\n",
        "def letters_to_indices(word):\n",
        "  return [ord(c) - ord(\"A\") for c in word]\n",
        "\n",
        "def pad_word(word):\n",
        "  while len(word) < max_length:\n",
        "    word += pad_char\n",
        "  return word\n",
        "\n",
        "def create_training_data(words):\n",
        "  n = len(words)\n",
        "  x = np.zeros((n, max_length))\n",
        "  y = np.zeros((n, ))\n",
        "  for (i, w) in enumerate(words):\n",
        "    padded_word = pad_word(w[:-1])\n",
        "    x[i, :] = letters_to_indices(padded_word)\n",
        "    y[i] = int(w[-1])\n",
        "  return x, y\n",
        "\n",
        "[x_train, x_valid, x_test], [y_train, y_valid, y_test] = split_data(combined_words)"
      ],
      "metadata": {
        "id": "hVsYjjQBt_Oz"
      },
      "execution_count": null,
      "outputs": []
    },
    {
      "cell_type": "code",
      "source": [
        "import tensorflow as tf\n",
        "from tensorflow.keras.models import Sequential\n",
        "from tensorflow.keras.layers import Embedding, LSTM, Dense\n",
        "\n",
        "model = Sequential()\n",
        "\n",
        "model.add(Embedding(input_dim=27, output_dim=embedding_dim, input_length=max_length))\n",
        "model.add(LSTM(64, return_sequences=True))\n",
        "model.add(LSTM(64, return_sequences=False))\n",
        "model.add(Dense(1, activation='sigmoid'))\n",
        "\n",
        "model.compile(optimizer='adam', loss='binary_crossentropy', metrics=['accuracy'])\n",
        "\n",
        "model.summary()"
      ],
      "metadata": {
        "colab": {
          "base_uri": "https://localhost:8080/"
        },
        "id": "fHqV_REYvU60",
        "outputId": "bf033bf5-ca7d-4531-ca94-cc9efad7e3ee"
      },
      "execution_count": null,
      "outputs": [
        {
          "output_type": "stream",
          "name": "stdout",
          "text": [
            "Model: \"sequential_2\"\n",
            "_________________________________________________________________\n",
            " Layer (type)                Output Shape              Param #   \n",
            "=================================================================\n",
            " embedding_2 (Embedding)     (None, 15, 32)            864       \n",
            "                                                                 \n",
            " lstm_10 (LSTM)              (None, 15, 64)            24832     \n",
            "                                                                 \n",
            " lstm_11 (LSTM)              (None, 64)                33024     \n",
            "                                                                 \n",
            " dense_5 (Dense)             (None, 1)                 65        \n",
            "                                                                 \n",
            "=================================================================\n",
            "Total params: 58785 (229.63 KB)\n",
            "Trainable params: 58785 (229.63 KB)\n",
            "Non-trainable params: 0 (0.00 Byte)\n",
            "_________________________________________________________________\n"
          ]
        }
      ]
    },
    {
      "cell_type": "code",
      "source": [
        "history = model.fit(x_train, y_train, epochs=num_epochs, validation_data=(x_valid, y_valid))"
      ],
      "metadata": {
        "colab": {
          "base_uri": "https://localhost:8080/"
        },
        "id": "9tcRzp_Sv2J4",
        "outputId": "60ff3137-f0fb-4934-df2f-f06cd5644f4e"
      },
      "execution_count": null,
      "outputs": [
        {
          "output_type": "stream",
          "name": "stdout",
          "text": [
            "Epoch 1/10\n",
            "650/650 [==============================] - 20s 24ms/step - loss: 0.6320 - accuracy: 0.6175 - val_loss: 0.6211 - val_accuracy: 0.6535\n",
            "Epoch 2/10\n",
            "650/650 [==============================] - 15s 23ms/step - loss: 0.5739 - accuracy: 0.6976 - val_loss: 0.5524 - val_accuracy: 0.7200\n",
            "Epoch 3/10\n",
            "650/650 [==============================] - 15s 23ms/step - loss: 0.5437 - accuracy: 0.7173 - val_loss: 0.5248 - val_accuracy: 0.7342\n",
            "Epoch 4/10\n",
            "650/650 [==============================] - 15s 23ms/step - loss: 0.5295 - accuracy: 0.7275 - val_loss: 0.5181 - val_accuracy: 0.7338\n",
            "Epoch 5/10\n",
            "650/650 [==============================] - 15s 23ms/step - loss: 0.5232 - accuracy: 0.7350 - val_loss: 0.5153 - val_accuracy: 0.7342\n",
            "Epoch 6/10\n",
            "650/650 [==============================] - 15s 23ms/step - loss: 0.5170 - accuracy: 0.7395 - val_loss: 0.5085 - val_accuracy: 0.7415\n",
            "Epoch 7/10\n",
            "650/650 [==============================] - 14s 22ms/step - loss: 0.5110 - accuracy: 0.7450 - val_loss: 0.5006 - val_accuracy: 0.7431\n",
            "Epoch 8/10\n",
            "650/650 [==============================] - 15s 23ms/step - loss: 0.5050 - accuracy: 0.7493 - val_loss: 0.5054 - val_accuracy: 0.7458\n",
            "Epoch 9/10\n",
            "650/650 [==============================] - 14s 22ms/step - loss: 0.5002 - accuracy: 0.7543 - val_loss: 0.4929 - val_accuracy: 0.7481\n",
            "Epoch 10/10\n",
            "650/650 [==============================] - 15s 24ms/step - loss: 0.4946 - accuracy: 0.7584 - val_loss: 0.4879 - val_accuracy: 0.7542\n"
          ]
        }
      ]
    },
    {
      "cell_type": "code",
      "source": [
        "test_loss, test_acc = model.evaluate(x_test, y_test)\n",
        "print(f\"Test Accuracy: {test_acc}\")"
      ],
      "metadata": {
        "colab": {
          "base_uri": "https://localhost:8080/"
        },
        "id": "2JdMSphmv4hW",
        "outputId": "04d3b056-78d8-4534-c71c-cf3f7e8b8327"
      },
      "execution_count": null,
      "outputs": [
        {
          "output_type": "stream",
          "name": "stdout",
          "text": [
            "82/82 [==============================] - 1s 8ms/step - loss: 0.5042 - accuracy: 0.7538\n",
            "Test Accuracy: 0.7538461685180664\n"
          ]
        }
      ]
    }
  ]
}